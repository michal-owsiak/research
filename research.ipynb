{
 "cells": [
  {
   "cell_type": "markdown",
   "metadata": {},
   "source": [
    "# **Table of contents**"
   ]
  },
  {
   "cell_type": "markdown",
   "metadata": {},
   "source": [
    "# **Abstract**"
   ]
  },
  {
   "cell_type": "markdown",
   "metadata": {},
   "source": [
    "# **1. Short introduction**"
   ]
  },
  {
   "cell_type": "markdown",
   "metadata": {},
   "source": [
    "# **2. Data collection & dataset overview**"
   ]
  },
  {
   "cell_type": "markdown",
   "metadata": {},
   "source": []
  },
  {
   "cell_type": "markdown",
   "metadata": {},
   "source": [
    "# **3. Imports**\n",
    "\n",
    "## **3.1 Importing libraries**\n",
    "\n",
    "Let's first import all the libraries and packages needed to run the following code cells."
   ]
  },
  {
   "cell_type": "code",
   "execution_count": 2,
   "metadata": {},
   "outputs": [],
   "source": [
    "import pandas as pd"
   ]
  },
  {
   "cell_type": "markdown",
   "metadata": {},
   "source": [
    "## **3.2. Loading dataset**\n",
    "\n",
    "Since Pandas package is in place, we can import our dataset from the GitHub repository, loading it as a Pandas DataFrame."
   ]
  },
  {
   "cell_type": "code",
   "execution_count": 4,
   "metadata": {},
   "outputs": [],
   "source": [
    "dataset_url = \"https://github.com/michal-owsiak/research/raw/main/dataset.xlsx\"\n",
    "df = pd.read_excel(dataset_url)"
   ]
  },
  {
   "cell_type": "markdown",
   "metadata": {},
   "source": [
    "Now let's check how big the loaded set is..."
   ]
  },
  {
   "cell_type": "code",
   "execution_count": 5,
   "metadata": {},
   "outputs": [
    {
     "name": "stdout",
     "output_type": "stream",
     "text": [
      "The dataset consists of 1127 records and 193 variables.\n"
     ]
    }
   ],
   "source": [
    "print(f\"The dataset consists of {df.shape[0]} records and {df.shape[1]} variables.\")"
   ]
  },
  {
   "cell_type": "markdown",
   "metadata": {},
   "source": [
    "...and what all those variables are."
   ]
  },
  {
   "cell_type": "code",
   "execution_count": 6,
   "metadata": {},
   "outputs": [
    {
     "data": {
      "text/plain": [
       "['start_date',\n",
       " 'end_date',\n",
       " 'progress_in_percent',\n",
       " 'duration_in_seconds',\n",
       " 'finished',\n",
       " 'recorded_date',\n",
       " 'age',\n",
       " 'sex',\n",
       " 'survey_version',\n",
       " 'worldview',\n",
       " 'education',\n",
       " 'meditation_M',\n",
       " 'meditation_minutes_M',\n",
       " 'compound_never_M',\n",
       " 'compound_LSD_M',\n",
       " 'compound_psylocybin_M',\n",
       " 'compound_ayahuasca_M',\n",
       " 'compound_DMT_M',\n",
       " 'compound_5MeODMT_M',\n",
       " 'compound_mescaline_M',\n",
       " 'compound_ibogaine_M',\n",
       " 'compound_salvia_M',\n",
       " 'compound_other_M',\n",
       " 'compound_text_M',\n",
       " 'use_amount_M',\n",
       " 'microdose_M',\n",
       " 'low_dose_M',\n",
       " 'average_dose_M',\n",
       " 'high_dose_M',\n",
       " 'very_high_dose_M',\n",
       " 'mystical_experience_M',\n",
       " 'context_psychedelic_M',\n",
       " 'context_other_psychoactive_M',\n",
       " 'context_NDE_M',\n",
       " 'context_meditation_M',\n",
       " 'context_ritual_M',\n",
       " 'context_hypnosis_M',\n",
       " 'context_other_M',\n",
       " 'context_other_psychoactive_text_M',\n",
       " 'context_other_text_M',\n",
       " 'trigger_compound_M',\n",
       " 'order_M',\n",
       " 'intensity_M',\n",
       " 'how_long_ago_M',\n",
       " 'MEQ30_1_M',\n",
       " 'MEQ30_2_M',\n",
       " 'MEQ30_3_M',\n",
       " 'MEQ30_4_M',\n",
       " 'MEQ30_5_M',\n",
       " 'MEQ30_6_M',\n",
       " 'MEQ30_7_M',\n",
       " 'MEQ30_8_M',\n",
       " 'MEQ30_9_M',\n",
       " 'MEQ30_10_M',\n",
       " 'MEQ30_11_M',\n",
       " 'MEQ30_12_M',\n",
       " 'MEQ30_13_M',\n",
       " 'MEQ30_14_M',\n",
       " 'MEQ30_15_M',\n",
       " 'MEQ30_16_M',\n",
       " 'MEQ30_17_M',\n",
       " 'MEQ30_18_M',\n",
       " 'MEQ30_19_M',\n",
       " 'MEQ30_20_M',\n",
       " 'MEQ30_21_M',\n",
       " 'MEQ30_22_M',\n",
       " 'MEQ30_23_M',\n",
       " 'MEQ30_24_M',\n",
       " 'MEQ30_25_M',\n",
       " 'MEQ30_26_M',\n",
       " 'MEQ30_27_M',\n",
       " 'MEQ30_28_M',\n",
       " 'MEQ30_29_M',\n",
       " 'MEQ30_30_M',\n",
       " 'PES_1_M',\n",
       " 'PES_2_M',\n",
       " 'PES_3_M',\n",
       " 'PES_4_M',\n",
       " 'PES_5_M',\n",
       " 'PES_6_M',\n",
       " 'PES_7_M',\n",
       " 'PES_8_M',\n",
       " 'PES_9_M',\n",
       " 'PES_10_M',\n",
       " 'PES_11_M',\n",
       " 'SWLS_1_M',\n",
       " 'SWLS_2_M',\n",
       " 'SWLS_3_M',\n",
       " 'SWLS_4_M',\n",
       " 'SWLS_5_M',\n",
       " 'DAP_R_1_M',\n",
       " 'DAP_R_2_M',\n",
       " 'DAP_R_3_M',\n",
       " 'DAP_R_4_M',\n",
       " 'DAP_R_5_M',\n",
       " 'DAP_R_6_M',\n",
       " 'DAP_R_7_M',\n",
       " 'DAP_R_8_M',\n",
       " 'influence_empathy_M',\n",
       " 'influence_satisfaction_M',\n",
       " 'influence_fear_M',\n",
       " 'description_text_M',\n",
       " 'meditation_F',\n",
       " 'meditation_minutes_F',\n",
       " 'compound_never_F',\n",
       " 'compound_LSD_F',\n",
       " 'compound_psylocybin_F',\n",
       " 'compound_ayahuasca_F',\n",
       " 'compound_DMT_F',\n",
       " 'compound_5MeODMT_F',\n",
       " 'compound_mescaline_F',\n",
       " 'compound_ibogaine_F',\n",
       " 'compound_salvia_F',\n",
       " 'compound_other_F',\n",
       " 'compound_text_F',\n",
       " 'use_amount_F',\n",
       " 'microdose_F',\n",
       " 'low_dose_F',\n",
       " 'average_dose_F',\n",
       " 'high_dose_F',\n",
       " 'very_high_dose_F',\n",
       " 'mystical_experience_F',\n",
       " 'context_psychedelic_F',\n",
       " 'context_other_psychoactive_F',\n",
       " 'context_NDE_F',\n",
       " 'context_meditation_F',\n",
       " 'context_ritual_F',\n",
       " 'context_hypnosis_F',\n",
       " 'context_other_F',\n",
       " 'context_other_psychoactive_text_F',\n",
       " 'context_other_text_F',\n",
       " 'trigger_compound_F',\n",
       " 'order_F',\n",
       " 'intensity_F',\n",
       " 'how_long_ago_F',\n",
       " 'MEQ30_1_F',\n",
       " 'MEQ30_2_F',\n",
       " 'MEQ30_3_F',\n",
       " 'MEQ30_4_F',\n",
       " 'MEQ30_5_F',\n",
       " 'MEQ30_6_F',\n",
       " 'MEQ30_7_F',\n",
       " 'MEQ30_8_F',\n",
       " 'MEQ30_9_F',\n",
       " 'MEQ30_10_F',\n",
       " 'MEQ30_11_F',\n",
       " 'MEQ30_12_F',\n",
       " 'MEQ30_13_F',\n",
       " 'MEQ30_14_F',\n",
       " 'MEQ30_15_F',\n",
       " 'MEQ30_16_F',\n",
       " 'MEQ30_17_F',\n",
       " 'MEQ30_18_F',\n",
       " 'MEQ30_19_F',\n",
       " 'MEQ30_20_F',\n",
       " 'MEQ30_21_F',\n",
       " 'MEQ30_22_F',\n",
       " 'MEQ30_23_F',\n",
       " 'MEQ30_24_F',\n",
       " 'MEQ30_25_F',\n",
       " 'MEQ30_26_F',\n",
       " 'MEQ30_27_F',\n",
       " 'MEQ30_28_F',\n",
       " 'MEQ30_29_F',\n",
       " 'MEQ30_30_F',\n",
       " 'PES_1_F',\n",
       " 'PES_2_F',\n",
       " 'PES_3_F',\n",
       " 'PES_4_F',\n",
       " 'PES_5_F',\n",
       " 'PES_6_F',\n",
       " 'PES_7_F',\n",
       " 'PES_8_F',\n",
       " 'PES_9_F',\n",
       " 'PES_10_F',\n",
       " 'PES_11_F',\n",
       " 'SWLS_1_F',\n",
       " 'SWLS_2_F',\n",
       " 'SWLS_3_F',\n",
       " 'SWLS_4_F',\n",
       " 'SWLS_5_F',\n",
       " 'DAP_R_1_F',\n",
       " 'DAP_R_2_F',\n",
       " 'DAP_R_3_F',\n",
       " 'DAP_R_4_F',\n",
       " 'DAP_R_5_F',\n",
       " 'DAP_R_6_F',\n",
       " 'DAP_R_7_F',\n",
       " 'DAP_R_8_F',\n",
       " 'influence_empathy_F',\n",
       " 'influence_satisfaction_F',\n",
       " 'influence_fear_F',\n",
       " 'description_text_F']"
      ]
     },
     "execution_count": 6,
     "metadata": {},
     "output_type": "execute_result"
    }
   ],
   "source": [
    "list(df.columns)"
   ]
  },
  {
   "cell_type": "markdown",
   "metadata": {},
   "source": [
    "*Tip: To get a comprehensive overview of all columns, viewing the above list as a scrollable element is recommended.*\n",
    "\n",
    "We observe that, excluding the first 11 columns, all variables are duplicated, denoted by either an `_F` or `_M` suffix. This duplication stems from the survey's interactive nature, which diverged the main survey flow into two paths – one using masculine and the other feminine language forms based on participants' choices. Variables ending with `_F` contain data obtained from the female version of the survey, while those ending with `_M` pertain to the male version. \n",
    "\n",
    "We don't want to analyze those two types of variables separately, so aggregating all the `_F` and `_M` variables together should be one of the first steps for facilitating our analysis. Thus, let's now proceed to the **Data warangling and cleaning** section."
   ]
  },
  {
   "cell_type": "markdown",
   "metadata": {},
   "source": []
  }
 ],
 "metadata": {
  "kernelspec": {
   "display_name": "Python 3",
   "language": "python",
   "name": "python3"
  },
  "language_info": {
   "codemirror_mode": {
    "name": "ipython",
    "version": 3
   },
   "file_extension": ".py",
   "mimetype": "text/x-python",
   "name": "python",
   "nbconvert_exporter": "python",
   "pygments_lexer": "ipython3",
   "version": "3.12.1"
  }
 },
 "nbformat": 4,
 "nbformat_minor": 2
}
