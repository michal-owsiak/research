{
 "cells": [
  {
   "cell_type": "markdown",
   "metadata": {},
   "source": [
    "# **Table of contents**"
   ]
  },
  {
   "cell_type": "markdown",
   "metadata": {},
   "source": [
    "# **Abstract**"
   ]
  },
  {
   "cell_type": "markdown",
   "metadata": {},
   "source": [
    "# **1. Short introduction**"
   ]
  },
  {
   "cell_type": "markdown",
   "metadata": {},
   "source": [
    "# **2. Data collection & dataset overview**\n",
    "\n",
    "Before we start wrangling, cleaning, and analyzing the data, it's essential to understand what we are working with. Here is some vital information about our dataset and the data collection process.\n",
    "\n",
    "Using [Qualtrics XM](https://www.qualtrics.com/), the online survey was created and distributed through various social media channels. Recruitment for the research was open from February 17, 2023, to March 29, 2023. The distributed survey consisted of the following sections:\n",
    "\n",
    "- **Homepage**\n",
    "\n",
    "  Participants were informed about the study conditions, a general outline of their participation, and an estimate of its duration. The introduction mentioned that certain parts of the survey might cause some emotional discomfort. It was stated that complete anonymity would be ensured and participants could withdraw from the study at any time. Clicking the \"Proceed\" button at the bottom of the page indicated consent to participate.\n",
    "\n",
    "- **Demographic metrics**\n",
    "\n",
    "  Basic demographic data of participants were collected: age, gender, level of education, and worldview on spiritual matters. In this section, participants were also asked about their preferred survey version – masculine or feminine. Based on their choice, subsequent content was presented using either masculine or feminine forms of verbs and adjectives (Polish language).\n",
    "\n",
    "- **Meditation/mindfulness practice**\n",
    "\n",
    "  Participants were asked if they practice meditation/mindfulness. If they did, they were asked to estimate the number of minutes devoted to this practice in the last 30 days.\n",
    "\n",
    "- **Psychedelics use**\n",
    "\n",
    "  A multiple-choice list was presented for participants to mark the psychedelic compounds they had used at least once in their lives, with an option to add other substances. The list included: LSD (or 1P-LSD); psilocybin mushrooms (or synthetic psilocybin); ayahuasca; DMT (other than ayahuasca); 5-MeO-DMT; mescaline; ibogaine; salvia divinorum.\n",
    "\n",
    "  Those who selected at least one substance were asked to estimate how many times they had used psychedelics and the subjective doses (microdoses, low, average, high, very high). Salvia divinorum and ibogaine were eventually excluded from the psychedelics group as they do not meet the criteria (affinity with 5-HT<sub>2A</sub> receptors) for classic psychedelics.\n",
    "\n",
    "- **Transcendental experiences**\n",
    "\n",
    "  Participants were asked if they had experienced a state of consciousness characterized by: **(1)** an altered sense of time and/or space, **(2)** a sense of awe, wonder, or fear, **(3)** ineffability, and **(4)** subjective transcendental/mystical qualities. Negative responses skipped subsequent items and the entire Mystical Experience Questionnaire (MEQ30), proceeding directly to dependent variable questionnaires.\n",
    "\n",
    "  Affirmative responses led to a multiple-choice list to select the circumstances of the experience. If involving a psychedelic substance, they specified which of the compounds triggered the most intense experience. Multiple circumstances required specification of the first and most intense experience. The last item estimated how long ago the most intense experience occurred.\n",
    "\n",
    "- **Revised Mystical Experience Questionnaire (MEQ30)**\n",
    "\n",
    "  This questionnaire, consisting of 30 items, measures the intensity of mystical experiences (MacLean et al., 2012; Barrett et al., 2015). Based on Walter Stace's classic concept (1960/1973), four dimensions are measured: *Mysticism*, *Positive Affect*, *Transcendence of Time and Space*, and *Ineffability*. Participants rated their experience on a 6-point Likert scale. The Polish translation (α = 0.95, N = 515) by the research author was used.\n",
    "\n",
    "  Confirmatory factor analysis showed a structural difference from the original. The item \"Experience of amazement\" loaded onto the *Ineffability* dimension rather than *Positive Affect*. However, retaining the original structure preserved slightly better reliability (α<sub>mysticism</sub> = 0.95; α<sub>positive affect</sub> = 0.80; α<sub>transcendence</sub> = 0.85; α<sub>ineffability</sub> = 0.79).\n",
    "\n",
    "- **Perth Empathy Scale (PES)**\n",
    "\n",
    "  This tool measures cognitive and affective empathy (Brett et al., 2022), categorized into positive and negative emotions, forming four subscales. The study used the *Positive* and *Negative Affective Empathy* subscales (α<sub>positive-affective</sub> = 0.70; α<sub>negative-affective</sub> = 0.72, N = 676), contributing to *Overall Affective Empathy* (α = 0.73; 10 items). Each item followed a structured format with responses on a 5-point Likert scale. The Polish version by Paweł Larionow and Karolina Mudło-Głagolska (2022) was used.\n",
    "\n",
    "- **Satisfaction with Life Scale (SWLS)**\n",
    "\n",
    "  Created by Ed Diener and colleagues (1985), this scale has 5 items rated on a 7-point Likert scale. It measures life satisfaction (example item: *If I could live my life over, I would change almost nothing*). The Polish translation by Konrad Jankowski (2015) was used (α = 0.86, N = 676).\n",
    "\n",
    "- **Death Attitude Profile - Revised (DAP-R-PL)**\n",
    "\n",
    "  This tool measures five areas of attitudes toward death, including types of death acceptance and avoidance, and fear of death (Wong et al., 1994). Only the *Fear of Death* subscale was used (example item: *Death is undoubtedly an unpleasant experience*) in the Polish adaptation by Paweł Brudek et al. (2020). This subscale has 10 items rated on a 7-point Likert scale (α = 0.92, N = 676).\n",
    "\n",
    "- **Subjectively perceived influence**\n",
    "\n",
    "  This section was for participants who reported undergoing a mystical experience. They answered three questions about the impact of the experience on empathy, life satisfaction, and fear of death, rated on a 5-point Likert scale. Participants could also share their experience in an optional text field."
   ]
  },
  {
   "cell_type": "markdown",
   "metadata": {},
   "source": []
  },
  {
   "cell_type": "markdown",
   "metadata": {},
   "source": [
    "# **3. Imports**\n",
    "\n",
    "## **3.1 Importing libraries**\n",
    "\n",
    "Let's first import all the libraries and packages needed to run the following code cells."
   ]
  },
  {
   "cell_type": "code",
   "execution_count": 2,
   "metadata": {},
   "outputs": [],
   "source": [
    "import pandas as pd"
   ]
  },
  {
   "cell_type": "markdown",
   "metadata": {},
   "source": [
    "## **3.2. Loading dataset**\n",
    "\n",
    "Since Pandas package is in place, we can import our dataset from the GitHub repository, loading it as a Pandas DataFrame."
   ]
  },
  {
   "cell_type": "code",
   "execution_count": 4,
   "metadata": {},
   "outputs": [],
   "source": [
    "dataset_url = \"https://github.com/michal-owsiak/research/raw/main/dataset.xlsx\"\n",
    "df = pd.read_excel(dataset_url)"
   ]
  },
  {
   "cell_type": "markdown",
   "metadata": {},
   "source": [
    "Now let's check how big the loaded set is..."
   ]
  },
  {
   "cell_type": "code",
   "execution_count": 5,
   "metadata": {},
   "outputs": [
    {
     "name": "stdout",
     "output_type": "stream",
     "text": [
      "The dataset consists of 1127 records and 193 variables.\n"
     ]
    }
   ],
   "source": [
    "print(f\"The dataset consists of {df.shape[0]} records and {df.shape[1]} variables.\")"
   ]
  },
  {
   "cell_type": "markdown",
   "metadata": {},
   "source": [
    "...and what all those variables are."
   ]
  },
  {
   "cell_type": "code",
   "execution_count": 6,
   "metadata": {},
   "outputs": [
    {
     "data": {
      "text/plain": [
       "['start_date',\n",
       " 'end_date',\n",
       " 'progress_in_percent',\n",
       " 'duration_in_seconds',\n",
       " 'finished',\n",
       " 'recorded_date',\n",
       " 'age',\n",
       " 'sex',\n",
       " 'survey_version',\n",
       " 'worldview',\n",
       " 'education',\n",
       " 'meditation_M',\n",
       " 'meditation_minutes_M',\n",
       " 'compound_never_M',\n",
       " 'compound_LSD_M',\n",
       " 'compound_psylocybin_M',\n",
       " 'compound_ayahuasca_M',\n",
       " 'compound_DMT_M',\n",
       " 'compound_5MeODMT_M',\n",
       " 'compound_mescaline_M',\n",
       " 'compound_ibogaine_M',\n",
       " 'compound_salvia_M',\n",
       " 'compound_other_M',\n",
       " 'compound_text_M',\n",
       " 'use_amount_M',\n",
       " 'microdose_M',\n",
       " 'low_dose_M',\n",
       " 'average_dose_M',\n",
       " 'high_dose_M',\n",
       " 'very_high_dose_M',\n",
       " 'mystical_experience_M',\n",
       " 'context_psychedelic_M',\n",
       " 'context_other_psychoactive_M',\n",
       " 'context_NDE_M',\n",
       " 'context_meditation_M',\n",
       " 'context_ritual_M',\n",
       " 'context_hypnosis_M',\n",
       " 'context_other_M',\n",
       " 'context_other_psychoactive_text_M',\n",
       " 'context_other_text_M',\n",
       " 'trigger_compound_M',\n",
       " 'order_M',\n",
       " 'intensity_M',\n",
       " 'how_long_ago_M',\n",
       " 'MEQ30_1_M',\n",
       " 'MEQ30_2_M',\n",
       " 'MEQ30_3_M',\n",
       " 'MEQ30_4_M',\n",
       " 'MEQ30_5_M',\n",
       " 'MEQ30_6_M',\n",
       " 'MEQ30_7_M',\n",
       " 'MEQ30_8_M',\n",
       " 'MEQ30_9_M',\n",
       " 'MEQ30_10_M',\n",
       " 'MEQ30_11_M',\n",
       " 'MEQ30_12_M',\n",
       " 'MEQ30_13_M',\n",
       " 'MEQ30_14_M',\n",
       " 'MEQ30_15_M',\n",
       " 'MEQ30_16_M',\n",
       " 'MEQ30_17_M',\n",
       " 'MEQ30_18_M',\n",
       " 'MEQ30_19_M',\n",
       " 'MEQ30_20_M',\n",
       " 'MEQ30_21_M',\n",
       " 'MEQ30_22_M',\n",
       " 'MEQ30_23_M',\n",
       " 'MEQ30_24_M',\n",
       " 'MEQ30_25_M',\n",
       " 'MEQ30_26_M',\n",
       " 'MEQ30_27_M',\n",
       " 'MEQ30_28_M',\n",
       " 'MEQ30_29_M',\n",
       " 'MEQ30_30_M',\n",
       " 'PES_1_M',\n",
       " 'PES_2_M',\n",
       " 'PES_3_M',\n",
       " 'PES_4_M',\n",
       " 'PES_5_M',\n",
       " 'PES_6_M',\n",
       " 'PES_7_M',\n",
       " 'PES_8_M',\n",
       " 'PES_9_M',\n",
       " 'PES_10_M',\n",
       " 'PES_11_M',\n",
       " 'SWLS_1_M',\n",
       " 'SWLS_2_M',\n",
       " 'SWLS_3_M',\n",
       " 'SWLS_4_M',\n",
       " 'SWLS_5_M',\n",
       " 'DAP_R_1_M',\n",
       " 'DAP_R_2_M',\n",
       " 'DAP_R_3_M',\n",
       " 'DAP_R_4_M',\n",
       " 'DAP_R_5_M',\n",
       " 'DAP_R_6_M',\n",
       " 'DAP_R_7_M',\n",
       " 'DAP_R_8_M',\n",
       " 'influence_empathy_M',\n",
       " 'influence_satisfaction_M',\n",
       " 'influence_fear_M',\n",
       " 'description_text_M',\n",
       " 'meditation_F',\n",
       " 'meditation_minutes_F',\n",
       " 'compound_never_F',\n",
       " 'compound_LSD_F',\n",
       " 'compound_psylocybin_F',\n",
       " 'compound_ayahuasca_F',\n",
       " 'compound_DMT_F',\n",
       " 'compound_5MeODMT_F',\n",
       " 'compound_mescaline_F',\n",
       " 'compound_ibogaine_F',\n",
       " 'compound_salvia_F',\n",
       " 'compound_other_F',\n",
       " 'compound_text_F',\n",
       " 'use_amount_F',\n",
       " 'microdose_F',\n",
       " 'low_dose_F',\n",
       " 'average_dose_F',\n",
       " 'high_dose_F',\n",
       " 'very_high_dose_F',\n",
       " 'mystical_experience_F',\n",
       " 'context_psychedelic_F',\n",
       " 'context_other_psychoactive_F',\n",
       " 'context_NDE_F',\n",
       " 'context_meditation_F',\n",
       " 'context_ritual_F',\n",
       " 'context_hypnosis_F',\n",
       " 'context_other_F',\n",
       " 'context_other_psychoactive_text_F',\n",
       " 'context_other_text_F',\n",
       " 'trigger_compound_F',\n",
       " 'order_F',\n",
       " 'intensity_F',\n",
       " 'how_long_ago_F',\n",
       " 'MEQ30_1_F',\n",
       " 'MEQ30_2_F',\n",
       " 'MEQ30_3_F',\n",
       " 'MEQ30_4_F',\n",
       " 'MEQ30_5_F',\n",
       " 'MEQ30_6_F',\n",
       " 'MEQ30_7_F',\n",
       " 'MEQ30_8_F',\n",
       " 'MEQ30_9_F',\n",
       " 'MEQ30_10_F',\n",
       " 'MEQ30_11_F',\n",
       " 'MEQ30_12_F',\n",
       " 'MEQ30_13_F',\n",
       " 'MEQ30_14_F',\n",
       " 'MEQ30_15_F',\n",
       " 'MEQ30_16_F',\n",
       " 'MEQ30_17_F',\n",
       " 'MEQ30_18_F',\n",
       " 'MEQ30_19_F',\n",
       " 'MEQ30_20_F',\n",
       " 'MEQ30_21_F',\n",
       " 'MEQ30_22_F',\n",
       " 'MEQ30_23_F',\n",
       " 'MEQ30_24_F',\n",
       " 'MEQ30_25_F',\n",
       " 'MEQ30_26_F',\n",
       " 'MEQ30_27_F',\n",
       " 'MEQ30_28_F',\n",
       " 'MEQ30_29_F',\n",
       " 'MEQ30_30_F',\n",
       " 'PES_1_F',\n",
       " 'PES_2_F',\n",
       " 'PES_3_F',\n",
       " 'PES_4_F',\n",
       " 'PES_5_F',\n",
       " 'PES_6_F',\n",
       " 'PES_7_F',\n",
       " 'PES_8_F',\n",
       " 'PES_9_F',\n",
       " 'PES_10_F',\n",
       " 'PES_11_F',\n",
       " 'SWLS_1_F',\n",
       " 'SWLS_2_F',\n",
       " 'SWLS_3_F',\n",
       " 'SWLS_4_F',\n",
       " 'SWLS_5_F',\n",
       " 'DAP_R_1_F',\n",
       " 'DAP_R_2_F',\n",
       " 'DAP_R_3_F',\n",
       " 'DAP_R_4_F',\n",
       " 'DAP_R_5_F',\n",
       " 'DAP_R_6_F',\n",
       " 'DAP_R_7_F',\n",
       " 'DAP_R_8_F',\n",
       " 'influence_empathy_F',\n",
       " 'influence_satisfaction_F',\n",
       " 'influence_fear_F',\n",
       " 'description_text_F']"
      ]
     },
     "execution_count": 6,
     "metadata": {},
     "output_type": "execute_result"
    }
   ],
   "source": [
    "list(df.columns)"
   ]
  },
  {
   "cell_type": "markdown",
   "metadata": {},
   "source": [
    "*Tip: To get a comprehensive overview of all columns, viewing the above list as a scrollable element is recommended.*\n",
    "\n",
    "We observe that, excluding the first 11 columns, all variables are duplicated, denoted by either an `_F` or `_M` suffix. This duplication stems from the survey's interactive nature, which diverged the main survey flow into two paths – one using masculine and the other feminine language forms based on participants' choices. Variables ending with `_F` contain data obtained from the female version of the survey, while those ending with `_M` pertain to the male version. \n",
    "\n",
    "We don't want to analyze those two types of variables separately, so aggregating all the `_F` and `_M` variables together should be one of the first steps for facilitating our analysis. Thus, let's now proceed to the **Data warangling and cleaning** section."
   ]
  },
  {
   "cell_type": "markdown",
   "metadata": {},
   "source": []
  }
 ],
 "metadata": {
  "kernelspec": {
   "display_name": "Python 3",
   "language": "python",
   "name": "python3"
  },
  "language_info": {
   "codemirror_mode": {
    "name": "ipython",
    "version": 3
   },
   "file_extension": ".py",
   "mimetype": "text/x-python",
   "name": "python",
   "nbconvert_exporter": "python",
   "pygments_lexer": "ipython3",
   "version": "3.12.1"
  }
 },
 "nbformat": 4,
 "nbformat_minor": 2
}
